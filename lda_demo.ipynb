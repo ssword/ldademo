{
 "cells": [
  {
   "cell_type": "markdown",
   "metadata": {},
   "source": [
    "# Documents Preprocessing"
   ]
  },
  {
   "cell_type": "code",
   "execution_count": null,
   "metadata": {
    "collapsed": true
   },
   "outputs": [],
   "source": [
    "import gensim.parsing.preprocessing as prep"
   ]
  },
  {
   "cell_type": "code",
   "execution_count": null,
   "metadata": {
    "collapsed": true
   },
   "outputs": [],
   "source": [
    "docs = prep.read_files('./news/*.txt')"
   ]
  },
  {
   "cell_type": "code",
   "execution_count": 18,
   "metadata": {},
   "outputs": [
    {
     "name": "stdout",
     "output_type": "stream",
     "text": [
      "['trump', 'cut', 'social', 'secur', 'chang', 'budget', 'propos', 'presid', 'trump', 'scrap', 'potenti', 'reform', 'social', 'secur', 'medicar', 'prepar', 'budget', 'request', 'accord', 'offic', 'manag', 'budget', 'director', 'mick', 'mulvanei', 'mulvanei', 'fiscal', 'hawk', 'member', 'hous', 'freedom', 'caucu', 'said', 'trump', 'quash', 'potenti', 'chang', 'social', 'secur', 'cite', 'campaign', 'pledg', 'touch', 'program', 'laid', 'option', 'mick', 'mulvanei', 'piec', 'paper', 'mulvanei', 'told', 'cnbc', 'interview', 'air', 'tuesdai', '“and', 'trump', 'look', 'said', '‘what', 'said', '‘well', 'chang', 'social', 'secur', 'said', '‘no', 'said', 'told', 'peopl', 'wouldn', 'chang', 'ran', 'go', 'chang', 'list', 'trump', 'releas', 'budget', 'propos', 'march', 'plan', 'includ', 'steep', 'cut', 'domest', 'program', 'increas', 'defens', 'spend', 'touch', 'social', 'secur', 'medicar', 'trump’', 'posit', 'social', 'secur', 'medicar', 'promis', '“cut”', 'program', 'campaign', 'hasn’t', 'specifi', 'he’d', 'consid', 'cut', 'hous', 'freedom', 'caucu', 'chairman', 'mark', 'meadow', 'campaign', 'trump', 'told', 'hill', 'februari', 'thought', 'trump', 'open', 'make', 'chang', 'affect', 'futur', 'beneficiari', 'current', 'on', 'told', 'cspan', 'week', 'later', 'trump', 'effect', 'taken', 'social', 'secur', 'medicar', 'reform', 'tabl', 'conserv', 'compel', 'case', 'go', 'meadow', 'said', 'republican', 'lawmak', 'long', 'support', 'entitl', 'reform', 'call', 'trump', 'push', 'social', 'secur', 'medicar', 'fix', 'program', 'bulk', 'feder', 'spend', 'trust', 'fund', 'support', 'benefit', 'payment', 'project', 'insolv', 'year', 'accord', 'congression', 'budget', 'offic', 'mulvanei', 'support', 'social', 'secur', 'medicar', 'reform', 'told', 'cnbc', '“we', 'work', 'on”', 'persuad', 'trump', 'embrac', 'entitl', 'reform', 'includ', 'chang', 'social', 'secur', 'disabl', 'insur', 'declin', 'trump', 'veto', 'bill', 'pass', 'chang', 'affect', 'social', 'secur', 'medicar', '“that', 'conduc', 'wai', 'sort', 'maintain', 'relationship', 'execut', 'administr', 'branch', 'mulvanei', 'said', '“let', 'pass', 'let', 'talk']\n"
     ]
    }
   ],
   "source": [
    "texts = prep.preprocess_documents(docs)\n",
    "print(texts[0])"
   ]
  },
  {
   "cell_type": "code",
   "execution_count": null,
   "metadata": {},
   "outputs": [],
   "source": [
    "from gensim import corpora, models\n",
    "dictionary = corpora.Dictionary(texts)\n",
    "print(dictionary.token2id)"
   ]
  },
  {
   "cell_type": "code",
   "execution_count": 12,
   "metadata": {},
   "outputs": [
    {
     "name": "stdout",
     "output_type": "stream",
     "text": [
      "[(0, 11), (1, 3), (2, 11), (3, 11), (4, 8), (5, 5), (6, 2), (7, 1), (8, 1), (9, 2), (10, 5), (11, 7), (12, 1), (13, 1), (14, 2), (15, 2), (16, 1), (17, 1), (18, 2), (19, 6), (20, 1), (21, 1), (22, 1), (23, 2), (24, 2), (25, 2), (26, 7), (27, 1), (28, 1), (29, 3), (30, 1), (31, 2), (32, 4), (33, 1), (34, 1), (35, 1), (36, 1), (37, 5), (38, 2), (39, 1), (40, 1), (41, 1), (42, 1), (43, 1), (44, 1), (45, 1), (46, 1), (47, 1), (48, 1), (49, 1), (50, 2), (51, 1), (52, 1), (53, 1), (54, 1), (55, 2), (56, 1), (57, 1), (58, 1), (59, 1), (60, 2), (61, 1), (62, 1), (63, 1), (64, 1), (65, 1), (66, 1), (67, 1), (68, 1), (69, 1), (70, 1), (71, 2), (72, 1), (73, 1), (74, 1), (75, 1), (76, 1), (77, 2), (78, 1), (79, 1), (80, 1), (81, 1), (82, 1), (83, 1), (84, 1), (85, 1), (86, 1), (87, 1), (88, 1), (89, 1), (90, 1), (91, 1), (92, 1), (93, 1), (94, 3), (95, 2), (96, 1), (97, 1), (98, 1), (99, 1), (100, 1), (101, 1), (102, 1), (103, 1), (104, 1), (105, 1), (106, 1), (107, 1), (108, 1), (109, 1), (110, 1), (111, 1), (112, 1), (113, 1), (114, 1), (115, 1), (116, 1), (117, 1), (118, 1), (119, 2), (120, 1), (121, 1), (122, 1), (123, 1), (124, 1), (125, 1), (126, 1), (127, 1), (128, 1), (129, 1), (130, 1), (131, 1)]\n"
     ]
    }
   ],
   "source": [
    "corpus = [dictionary.doc2bow(text) for text in texts]\n",
    "print(corpus[0])"
   ]
  },
  {
   "cell_type": "code",
   "execution_count": 17,
   "metadata": {},
   "outputs": [
    {
     "name": "stdout",
     "output_type": "stream",
     "text": [
      "[(0, '0.001*\"trump\" + 0.001*\"debt\" + 0.001*\"peopl\" + 0.001*\"go\" + 0.001*\"pai\"'), (1, '0.044*\"trump\" + 0.039*\"debt\" + 0.025*\"go\" + 0.020*\"o’reilli\" + 0.016*\"pai\"'), (2, '0.001*\"diet\" + 0.001*\"eat\" + 0.001*\"peopl\" + 0.001*\"clean\" + 0.001*\"bone\"'), (3, '0.001*\"trump\" + 0.001*\"said\" + 0.001*\"debt\" + 0.001*\"unit\" + 0.001*\"sai\"'), (4, '0.030*\"social\" + 0.027*\"secur\" + 0.024*\"trump\" + 0.022*\"said\" + 0.020*\"chang\"'), (5, '0.041*\"diet\" + 0.023*\"bone\" + 0.015*\"young\" + 0.015*\"health\" + 0.015*\"osteoporosi\"'), (6, '0.029*\"unit\" + 0.025*\"said\" + 0.023*\"sai\" + 0.023*\"custom\" + 0.018*\"munoz\"'), (7, '0.001*\"trump\" + 0.001*\"debt\" + 0.001*\"said\" + 0.001*\"go\" + 0.001*\"countri\"'), (8, '0.037*\"peopl\" + 0.029*\"eat\" + 0.027*\"diet\" + 0.024*\"clean\" + 0.020*\"food\"'), (9, '0.001*\"peopl\" + 0.001*\"clean\" + 0.001*\"trump\" + 0.001*\"eat\" + 0.001*\"said\"')]\n"
     ]
    }
   ],
   "source": [
    "import gensim\n",
    "ldamodel1 = gensim.models.ldamodel.LdaModel(corpus, num_topics=10, id2word=dictionary, passes=20)\n",
    "print(ldamodel1.print_topics(num_topics=10, num_words=5))"
   ]
  },
  {
   "cell_type": "code",
   "execution_count": null,
   "metadata": {
    "collapsed": true
   },
   "outputs": [],
   "source": []
  }
 ],
 "metadata": {
  "kernelspec": {
   "display_name": "Python 3",
   "language": "python",
   "name": "python3"
  },
  "language_info": {
   "codemirror_mode": {
    "name": "ipython",
    "version": 3
   },
   "file_extension": ".py",
   "mimetype": "text/x-python",
   "name": "python",
   "nbconvert_exporter": "python",
   "pygments_lexer": "ipython3",
   "version": "3.6.0"
  }
 },
 "nbformat": 4,
 "nbformat_minor": 1
}
